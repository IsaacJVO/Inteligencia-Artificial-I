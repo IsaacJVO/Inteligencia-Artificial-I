{
 "cells": [
  {
   "cell_type": "code",
   "execution_count": 51,
   "id": "7de8f5ba",
   "metadata": {},
   "outputs": [],
   "source": [
    "from sklearn.cluster import KMeans\n",
    "from sklearn.linear_model import LogisticRegression\n",
    "from sklearn.model_selection import train_test_split\n",
    "import pandas as pd\n",
    "import numpy as np\n",
    "import matplotlib.pyplot as plt"
   ]
  },
  {
   "cell_type": "markdown",
   "id": "216a80c9",
   "metadata": {},
   "source": [
    "### K-Means para aprendizaje semi-supervisado con dataset ISOLET"
   ]
  },
  {
   "cell_type": "code",
   "execution_count": 52,
   "id": "fba0335b",
   "metadata": {},
   "outputs": [
    {
     "name": "stdout",
     "output_type": "stream",
     "text": [
      "Shape de X: (7797, 617)\n",
      "Cantidad de clases: 26\n"
     ]
    }
   ],
   "source": [
    "# Cargar dataset ISOLET\n",
    "df = pd.read_csv(r\"m:\\UNIVERSIDAD 2025_2\\INTELIGENCIA ATRIFICIAL\\NoSupervisado\\Dataset\\ISOLET_2.csv\", \n",
    "                 header=None, skiprows=1)\n",
    "\n",
    "X = df.iloc[:, :-1].values  # características de audio\n",
    "y = df.iloc[:, -1].str.strip(\"'\").astype(int)  # etiquetas (1-26 = A-Z)\n",
    "\n",
    "print(\"Shape de X:\", X.shape)\n",
    "print(\"Cantidad de clases:\", len(np.unique(y)))"
   ]
  },
  {
   "cell_type": "code",
   "execution_count": 53,
   "id": "242245c1",
   "metadata": {},
   "outputs": [],
   "source": [
    "# Dividimos en conjunto de entrenamiento y prueba\n",
    "X_train, X_test, y_train, y_test = train_test_split(X, y, random_state=42)"
   ]
  },
  {
   "cell_type": "code",
   "execution_count": null,
   "id": "f6ff3841",
   "metadata": {},
   "outputs": [
    {
     "name": "stdout",
     "output_type": "stream",
     "text": [
      "Shape de distancias: (5847, 50)\n"
     ]
    }
   ],
   "source": [
    "k = 50  # número de clusters\n",
    "kmeans = KMeans(n_clusters=k, random_state=42)\n",
    "X_audio_dist = kmeans.fit_transform(X_train)\n",
    "\n",
    "print(\"Shape de distancias:\", X_audio_dist.shape)"
   ]
  },
  {
   "cell_type": "code",
   "execution_count": null,
   "id": "b11af0f3",
   "metadata": {},
   "outputs": [
    {
     "name": "stdout",
     "output_type": "stream",
     "text": [
      "Shape: (50, 617)\n"
     ]
    }
   ],
   "source": [
    "idxs = np.argmin(X_audio_dist, axis=0)  # índice más cercano a cada centroid\n",
    "X_representative = X_train[idxs]  # muestras representativas\n",
    "\n",
    "print(\"Shape:\", X_representative.shape)"
   ]
  },
  {
   "cell_type": "code",
   "execution_count": 66,
   "id": "4e88bd20",
   "metadata": {},
   "outputs": [
    {
     "name": "stdout",
     "output_type": "stream",
     "text": [
      "1797    15\n",
      "5825     3\n",
      "6573    13\n",
      "3490     7\n",
      "6230    19\n",
      "1334    18\n",
      "3081     7\n",
      "6391    25\n",
      "4271     8\n",
      "2466    12\n",
      "3890    17\n",
      "5998    21\n",
      "1224    15\n",
      "5096     1\n",
      "7175     2\n",
      "3565     4\n",
      "3700     9\n",
      "3696     5\n",
      "6865     3\n",
      "6953    21\n",
      "1995    10\n",
      "3709    18\n",
      "5119    24\n",
      "1345    23\n",
      "6041    12\n",
      "6030     1\n",
      "720     23\n",
      "4287    24\n",
      "2723    10\n",
      "6371    15\n",
      "6723    10\n",
      "750     12\n",
      "6478    17\n",
      "2394     2\n",
      "6132    25\n",
      "3321    20\n",
      "5446    14\n",
      "4567    18\n",
      "1031    22\n",
      "7106    19\n",
      "6483    20\n",
      "3536     1\n",
      "3650    11\n",
      "1534    14\n",
      "4904    17\n",
      "6356     8\n",
      "2455     6\n",
      "3554    19\n",
      "2261    13\n",
      "3716    25\n",
      "Name: 617, dtype: int32\n"
     ]
    }
   ],
   "source": [
    "# Obtener las etiquetas reales de las muestras más representativas\n",
    "y_representative = y_train.iloc[idxs]\n",
    "print(y_representative)"
   ]
  },
  {
   "cell_type": "code",
   "execution_count": null,
   "id": "2bbd9d31",
   "metadata": {},
   "outputs": [
    {
     "name": "stdout",
     "output_type": "stream",
     "text": [
      "Precisión usando solo muestras representativas: 0.6353846153846154\n"
     ]
    }
   ],
   "source": [
    "log_reg2 = LogisticRegression(multi_class=\"ovr\", solver=\"lbfgs\", max_iter=5000, random_state=42)\n",
    "log_reg2.fit(X_representative, y_representative)\n",
    "\n",
    "# Evaluamos el modelo en el conjunto de prueba\n",
    "print(\"Precisión usando solo muestras representativas:\", log_reg2.score(X_test, y_test))"
   ]
  },
  {
   "cell_type": "code",
   "execution_count": null,
   "id": "69302896",
   "metadata": {},
   "outputs": [
    {
     "name": "stdout",
     "output_type": "stream",
     "text": [
      "Precisión usando 50 muestras aleatorias: 0.48307692307692307\n"
     ]
    }
   ],
   "source": [
    "log_reg_random = LogisticRegression(multi_class=\"ovr\", solver=\"lbfgs\", max_iter=5000, random_state=42)\n",
    "log_reg_random.fit(X_train[:50], y_train[:50])\n",
    "\n",
    "\n",
    "# Evaluamos el modelo en el conjunto de prueba\n",
    "print(\"Precisión usando 50 muestras aleatorias:\", log_reg_random.score(X_test, y_test))"
   ]
  },
  {
   "cell_type": "code",
   "execution_count": 61,
   "id": "d3243624",
   "metadata": {},
   "outputs": [
    {
     "name": "stdout",
     "output_type": "stream",
     "text": [
      "Precisión con 1000 muestras semi-etiquetadas: 0.66\n"
     ]
    }
   ],
   "source": [
    "# Propagación de etiquetas representativas a todo el conjunto de entrenamiento\n",
    "y_train_propagated = np.empty(len(X_train))\n",
    "for i in range(k):\n",
    "    y_train_propagated[kmeans.labels_ == i] = y_representative.iloc[i]\n",
    "\n",
    "# Entrenamiento con las etiquetas propagadas\n",
    "log_reg3 = LogisticRegression(multi_class=\"ovr\", solver=\"lbfgs\", max_iter=5000, random_state=42)\n",
    "log_reg3.fit(X_train[:1000], y_train_propagated[:1000])\n",
    "\n",
    "print(\"Precisión con 1000 muestras semi-etiquetadas:\", log_reg3.score(X_test, y_test))"
   ]
  },
  {
   "cell_type": "markdown",
   "id": "8ee13212",
   "metadata": {},
   "source": [
    "## Aprendizaje Activo"
   ]
  },
  {
   "cell_type": "code",
   "execution_count": 62,
   "id": "2659cd12",
   "metadata": {},
   "outputs": [],
   "source": [
    "# Calculamos las probabilidades de las primeras 1000 muestras\n",
    "probas = log_reg3.predict_proba(X_train[:1000])\n",
    "\n",
    "# Obtenemos el índice de la clase más probable para cada muestra\n",
    "labels_ixs = np.argmax(probas, axis=1)\n",
    "\n",
    "# Obtenemos la confianza (probabilidad máxima) de cada predicción\n",
    "confidences = probas[np.arange(len(probas)), labels_ixs]"
   ]
  },
  {
   "cell_type": "code",
   "execution_count": 64,
   "id": "4758863f",
   "metadata": {},
   "outputs": [],
   "source": [
    "# Ordenamos por confianza (de menor a mayor)\n",
    "sorted_ixs = np.argsort(confidences)\n",
    "\n",
    "k_active = 50  # cantidad de muestras \"inciertas\" a revisar\n",
    "\n",
    "# Obtenemos las 50 muestras más inciertas\n",
    "X_lowest = X_train[:1000][sorted_ixs[:k_active]]\n",
    "y_lowest = y_train.iloc[:1000].iloc[sorted_ixs[:k_active]]"
   ]
  },
  {
   "cell_type": "code",
   "execution_count": 65,
   "id": "1215b6dd",
   "metadata": {},
   "outputs": [
    {
     "name": "stdout",
     "output_type": "stream",
     "text": [
      "Precisión usando aprendizaje activo (50 muestras inciertas): 0.3035897435897436\n"
     ]
    }
   ],
   "source": [
    "log_reg_active = LogisticRegression(multi_class=\"ovr\", solver=\"lbfgs\", max_iter=5000, random_state=42)\n",
    "\n",
    "# Entrenamos con las 50 muestras inciertas (suponemos que ya están etiquetadas correctamente)\n",
    "log_reg_active.fit(X_lowest, y_lowest)\n",
    "\n",
    "# Evaluamos en el conjunto de prueba\n",
    "print(\"Precisión usando aprendizaje activo (50 muestras inciertas):\", log_reg_active.score(X_test, y_test))"
   ]
  }
 ],
 "metadata": {
  "kernelspec": {
   "display_name": "Python 3",
   "language": "python",
   "name": "python3"
  },
  "language_info": {
   "codemirror_mode": {
    "name": "ipython",
    "version": 3
   },
   "file_extension": ".py",
   "mimetype": "text/x-python",
   "name": "python",
   "nbconvert_exporter": "python",
   "pygments_lexer": "ipython3",
   "version": "3.11.9"
  }
 },
 "nbformat": 4,
 "nbformat_minor": 5
}
