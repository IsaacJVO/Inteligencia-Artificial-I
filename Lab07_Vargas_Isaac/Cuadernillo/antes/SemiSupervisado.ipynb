{
  "cells": [
    {
      "cell_type": "markdown",
      "metadata": {
        "id": "JJmWkIh97Aqx"
      },
      "source": [
        "### K-Means para aprendizaje semi-supervisado."
      ]
    },
    {
      "cell_type": "markdown",
      "metadata": {
        "id": "h-qBvfoY7Aqx"
      },
      "source": [
        "El aprendizaje semi-supervisado (o *Semi-supervised Learning*) comprende el conjunto de técnicas que nos permiten entrenar modelos con datasets parcialmente etiquetados. En esta sección vamos a ver un ejemplo de como podemos aplicar esta técnica con el dataset MNIST y usando *K-Means*. Empezamos descargando el dataset."
      ]
    },
    {
      "cell_type": "code",
      "execution_count": null,
      "metadata": {
        "id": "uGmvFaIT1Exq"
      },
      "outputs": [],
      "source": [
        "from sklearn.datasets import fetch_lfw_people\n",
        "\n",
        "\n",
        "# Cargar el dataset con imágenes de al menos 70 rostros por persona (puedes ajustar min_faces_per_person)\n",
        "lfw_dataset = fetch_lfw_people(min_faces_per_person=70, resize=0.4)\n",
        "\n",
        "# Acceder a los datos\n",
        "X = lfw_dataset.data          # Imágenes en formato vectorizado (flattened)\n",
        "y = lfw_dataset.target        # Etiquetas (persona)\n",
        "target_names = lfw_dataset.target_names  # Nombres de las personas\n",
        "\n",
        "# Verificar las dimensiones\n",
        "print(\"Shape de X:\", X.shape)\n",
        "print(\"Número de clases:\", len(target_names))\n"
      ]
    },
    {
      "cell_type": "code",
      "execution_count": null,
      "metadata": {
        "id": "F4X4pEn71UvU"
      },
      "outputs": [],
      "source": [
        "import matplotlib.pyplot as plt\n",
        "\n",
        "# Mostrar las primeras 10 imágenes del dataset\n",
        "fig, axes = plt.subplots(1, 10, figsize=(15, 8))\n",
        "for i in range(10):\n",
        "    axes[i].imshow(lfw_dataset.images[i], cmap=\"gray\")\n",
        "    axes[i].axis(\"off\")\n",
        "    axes[i].set_title(target_names[y[i]][:10])  # mostrar el nombre\n",
        "plt.tight_layout()\n",
        "plt.show()\n"
      ]
    },
    {
      "cell_type": "code",
      "execution_count": null,
      "metadata": {
        "id": "7uHcVunj1dvr"
      },
      "outputs": [],
      "source": [
        "#preparar el dataset\n",
        "from sklearn.model_selection import train_test_split\n",
        "import numpy as np\n",
        "\n",
        "# Cargamos el dataset\n",
        "lfw = fetch_lfw_people(min_faces_per_person=70, resize=0.4)\n",
        "\n",
        "X = lfw.data  # características (imagenes aplanadas)\n",
        "y = lfw.target  # etiquetas (personas)\n",
        "target_names = lfw.target_names  # nombres de personas\n",
        "\n",
        "print(\"Shape de X:\", X.shape)  # ejemplo: (1288, 1850)\n",
        "print(\"Cantidad de clases:\", len(target_names))\n",
        "\n",
        "# Dividimos en conjunto de entrenamiento y prueba\n",
        "X_train, X_test, y_train, y_test = train_test_split(X, y, random_state=42)\n"
      ]
    },
    {
      "cell_type": "code",
      "execution_count": null,
      "metadata": {
        "id": "iqfTnL6T2JMy"
      },
      "outputs": [],
      "source": [
        "from sklearn.cluster import KMeans\n",
        "\n",
        "k = 50  # número de clusters\n",
        "kmeans = KMeans(n_clusters=k, random_state=42)\n",
        "X_faces_dist = kmeans.fit_transform(X_train)  # distancia a cada centroide\n",
        "\n",
        "print(\"Shape de distancias:\", X_faces_dist.shape)\n"
      ]
    },
    {
      "cell_type": "code",
      "execution_count": null,
      "metadata": {
        "id": "6fEagjNs2OvH"
      },
      "outputs": [],
      "source": [
        "idxs = np.argmin(X_faces_dist, axis=0)  # índice más cercano a cada centroide\n",
        "X_representative_faces = X_train[idxs]  # imágenes representativas\n",
        "\n",
        "print(\"Shape:\", X_representative_faces.shape)\n"
      ]
    },
    {
      "cell_type": "code",
      "execution_count": null,
      "metadata": {
        "id": "3Ya6EqcI2Zmf"
      },
      "outputs": [],
      "source": [
        "import matplotlib.pyplot as plt\n",
        "\n",
        "h, w = lfw.images.shape[1:3]  # alto y ancho original\n",
        "\n",
        "plt.figure(figsize=(15, 6))\n",
        "for index, face in enumerate(X_representative_faces):\n",
        "    plt.subplot(5, 10, index + 1)\n",
        "    plt.imshow(face.reshape(h, w), cmap=\"gray\")\n",
        "    plt.title(f\"{index+1}\", fontsize=8)\n",
        "    plt.axis('off')\n",
        "plt.suptitle(\"Imágenes más representativas por cluster\", fontsize=16)\n",
        "plt.show()\n"
      ]
    },
    {
      "cell_type": "code",
      "execution_count": null,
      "metadata": {
        "id": "4a6CDz3S2iKx"
      },
      "outputs": [],
      "source": [
        "# Obtener las etiquetas reales de las imágenes más representativas\n",
        "y_representative_faces = y_train[idxs]\n"
      ]
    },
    {
      "cell_type": "code",
      "execution_count": null,
      "metadata": {
        "id": "MTu-Y13v3ad0"
      },
      "outputs": [],
      "source": [
        "from sklearn.linear_model import LogisticRegression\n",
        "\n",
        "log_reg2 = LogisticRegression(multi_class=\"ovr\", solver=\"lbfgs\", max_iter=5000, random_state=42)\n",
        "%time log_reg2.fit(X_representative_faces, y_representative_faces)\n",
        "\n",
        "# Evaluamos el modelo en el conjunto de prueba\n",
        "print(\"Precisión usando solo imágenes representativas:\", log_reg2.score(X_test, y_test))\n",
        "\n",
        "\n"
      ]
    },
    {
      "cell_type": "code",
      "execution_count": null,
      "metadata": {
        "id": "nFdeui4N3nOb"
      },
      "outputs": [],
      "source": [
        "log_reg_random = LogisticRegression(multi_class=\"ovr\", solver=\"lbfgs\", max_iter=5000, random_state=42)\n",
        "%time log_reg_random.fit(X_train[:50], y_train[:50])\n",
        "\n",
        "# Evaluamos el modelo en el conjunto de prueba\n",
        "print(\"Precisión usando 50 imágenes aleatorias:\", log_reg_random.score(X_test, y_test))\n",
        "\n"
      ]
    },
    {
      "cell_type": "code",
      "execution_count": null,
      "metadata": {
        "id": "OtP2i37oJmnL"
      },
      "outputs": [],
      "source": [
        "# Propagación de etiquetas representativas a todo el conjunto de entrenamiento\n",
        "y_train_propagated = np.empty(len(X_train))\n",
        "for i in range(k):\n",
        "    y_train_propagated[kmeans.labels_ == i] = y_representative_faces[i]\n",
        "\n",
        "# Entrenamiento con las etiquetas propagadas\n",
        "log_reg3 = LogisticRegression(multi_class=\"ovr\", solver=\"lbfgs\", max_iter=5000, random_state=42)\n",
        "%time log_reg3.fit(X_train[:1000], y_train_propagated[:1000])\n",
        "\n",
        "print(\"Precisión con 1000 muestras semi-etiquetadas:\", log_reg3.score(X_test, y_test))\n"
      ]
    },
    {
      "cell_type": "markdown",
      "metadata": {
        "id": "ym_86lAL7NOf"
      },
      "source": [
        "## Aprendizaje Activo"
      ]
    },
    {
      "cell_type": "code",
      "execution_count": null,
      "metadata": {
        "id": "Fooo8vqt7VwW"
      },
      "outputs": [],
      "source": [
        "# Calculamos las probabilidades de las primeras 1000 muestras\n",
        "probas = log_reg3.predict_proba(X_train[:1000])\n",
        "\n",
        "# Obtenemos el índice de la clase más probable para cada muestra\n",
        "labels_ixs = np.argmax(probas, axis=1)\n",
        "\n",
        "# Obtenemos la confianza (probabilidad máxima) de cada predicción\n",
        "confidences = probas[np.arange(len(probas)), labels_ixs]\n",
        "\n"
      ]
    },
    {
      "cell_type": "code",
      "execution_count": null,
      "metadata": {
        "id": "pV1X2H35KaMB"
      },
      "outputs": [],
      "source": [
        "# Ordenamos por confianza (de menor a mayor)\n",
        "sorted_ixs = np.argsort(confidences)\n",
        "\n",
        "k = 50  # cantidad de muestras \"inciertas\" a revisar\n",
        "\n",
        "# Obtenemos las 50 imágenes más inciertas\n",
        "X_lowest = X_train[:1000][sorted_ixs[:k]]\n",
        "y_lowest = y_train[:1000][sorted_ixs[:k]]\n"
      ]
    },
    {
      "cell_type": "code",
      "execution_count": null,
      "metadata": {
        "id": "JxaxCBQzKkz2"
      },
      "outputs": [],
      "source": [
        "import matplotlib.pyplot as plt\n",
        "\n",
        "plt.figure(figsize=(10, 4))\n",
        "for i in range(10):\n",
        "    for j in range(5):\n",
        "        idx = i * 5 + j\n",
        "        image = X_lowest[idx].reshape(50, 37)\n",
        "        plt.subplot(10, 5, idx + 1)\n",
        "        plt.imshow(image, cmap=\"gray\")\n",
        "        plt.axis(\"off\")\n",
        "plt.suptitle(\"50 imágenes más inciertas según el modelo\")\n",
        "plt.tight_layout()\n",
        "plt.show()\n"
      ]
    },
    {
      "cell_type": "code",
      "execution_count": null,
      "metadata": {
        "id": "qy0K8kulKsoN"
      },
      "outputs": [],
      "source": [
        "log_reg_active = LogisticRegression(multi_class=\"ovr\", solver=\"lbfgs\", max_iter=5000, random_state=42)\n",
        "\n",
        "# Entrenamos con las 50 muestras inciertas (suponemos que ya están etiquetadas correctamente)\n",
        "%time log_reg_active.fit(X_lowest, y_lowest)\n",
        "\n",
        "# Evaluamos en el conjunto de prueba\n",
        "print(\"Precisión usando aprendizaje activo (50 imágenes inciertas):\", log_reg_active.score(X_test, y_test))\n"
      ]
    }
  ],
  "metadata": {
    "colab": {
      "provenance": []
    },
    "kernelspec": {
      "display_name": "Python 3.8.12 ('base')",
      "language": "python",
      "name": "python3"
    },
    "language_info": {
      "codemirror_mode": {
        "name": "ipython",
        "version": 3
      },
      "file_extension": ".py",
      "mimetype": "text/x-python",
      "name": "python",
      "nbconvert_exporter": "python",
      "pygments_lexer": "ipython3",
      "version": "3.8.10"
    },
    "orig_nbformat": 4,
    "vscode": {
      "interpreter": {
        "hash": "74dbfc52f168b3071122cf9c0781887d6121c12f9c1b29bca56ce221bccb2a07"
      }
    }
  },
  "nbformat": 4,
  "nbformat_minor": 0
}
