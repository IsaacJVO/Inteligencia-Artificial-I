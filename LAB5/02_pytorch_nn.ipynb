{
  "cells": [
    {
      "cell_type": "markdown",
      "metadata": {},
      "source": [
        "## NORMALIZAMOS EL DATASET"
      ]
    },
    {
      "cell_type": "code",
      "execution_count": 142,
      "metadata": {},
      "outputs": [
        {
          "name": "stdout",
          "output_type": "stream",
          "text": [
            "Original shape: torch.Size([20001, 9])\n",
            "Normalized shape: torch.Size([20001, 9])\n",
            "tensor([[0.0000e+00, 3.3766e-01, 6.5321e-02, 1.3333e-01, 3.9894e-02, 0.0000e+00,\n",
            "         0.0000e+00, 0.0000e+00, 3.3333e-01],\n",
            "        [5.0000e-05, 1.9481e-01, 6.5065e-02, 1.3333e-01, 2.0079e-02, 0.0000e+00,\n",
            "         0.0000e+00, 0.0000e+00, 1.0000e+00],\n",
            "        [1.0000e-04, 1.9481e-01, 6.5055e-02, 1.3333e-01, 5.2312e-02, 0.0000e+00,\n",
            "         0.0000e+00, 0.0000e+00, 0.0000e+00],\n",
            "        [1.5000e-04, 3.1169e-01, 6.5065e-02, 1.3333e-01, 1.0040e-01, 0.0000e+00,\n",
            "         0.0000e+00, 0.0000e+00, 3.3333e-01],\n",
            "        [2.0000e-04, 5.1948e-01, 6.5720e-02, 1.3333e-01, 1.8758e-02, 0.0000e+00,\n",
            "         0.0000e+00, 0.0000e+00, 1.0000e+00]])\n"
          ]
        }
      ],
      "source": [
        "import torch\n",
        "import pandas as pd\n",
        "\n",
        "# Ruta al archivo\n",
        "path = r\"M:\\UNIVERSIDAD 2025_2\\INTELIGENCIA ATRIFICIAL\\LAB5\\csv_result_multiclase.csv\"\n",
        "\n",
        "# Leer dataset\n",
        "df = pd.read_csv(path)\n",
        "\n",
        "# Convertir a tensor de float32 (quita columnas no numéricas antes si es necesario)\n",
        "data = torch.tensor(df.select_dtypes(include=['number']).values, dtype=torch.float32)\n",
        "\n",
        "# Normalización Min-Max\n",
        "min_vals, _ = torch.min(data, dim=0, keepdim=True)\n",
        "max_vals, _ = torch.max(data, dim=0, keepdim=True)\n",
        "normalized_data = (data - min_vals) / (max_vals - min_vals)\n",
        "\n",
        "print(\"Original shape:\", data.shape)\n",
        "print(\"Normalized shape:\", normalized_data.shape)\n",
        "print(normalized_data[:5])  # primeras 5 filas normalizadas\n"
      ]
    },
    {
      "cell_type": "markdown",
      "metadata": {
        "heading_collapsed": true,
        "id": "IqUKyQ9Nm6xM"
      },
      "source": [
        "## Modelos secuenciales"
      ]
    },
    {
      "cell_type": "markdown",
      "metadata": {
        "hidden": true,
        "id": "MDSz2Mbsm6xM"
      },
      "source": [
        "La forma más sencilla de definir una `red neuronal` en `Pytorch` es utilizando la clase `Sequentail`. Esta clase nos permite definir una secuencia de capas, que se aplicarán de manera secuencial (las salidas de una capa serán la entrada de la siguiente). Ésto ya lo conocemos de posts anteriores, ya que es la forma ideal de definir un `Perceptrón Multicapa`."
      ]
    },
    {
      "cell_type": "code",
      "execution_count": 143,
      "metadata": {
        "ExecuteTime": {
          "end_time": "2020-08-15T12:21:45.486329Z",
          "start_time": "2020-08-15T12:21:45.472624Z"
        },
        "hidden": true,
        "id": "V5KEpUHVm6xN"
      },
      "outputs": [],
      "source": [
        "import torch.nn as nn\n",
        "\n",
        "# OPCIÓN 1: Solo datos numéricos (7 características)\n",
        "D_in = 7   # Solo las 7 columnas numéricas\n",
        "H1 = 64\n",
        "H2 = 32\n",
        "D_out = 4\n",
        "\n",
        "model = nn.Sequential(\n",
        "    nn.Linear(D_in, H1),\n",
        "    nn.ReLU(),\n",
        "    nn.Linear(H1, H2),\n",
        "    nn.ReLU(),\n",
        "    nn.Linear(H2, D_out)\n",
        ")"
      ]
    },
    {
      "cell_type": "code",
      "execution_count": 144,
      "metadata": {},
      "outputs": [],
      "source": [
        "# OPCIÓN 2: Si usas get_dummies() para incluir variables categóricas\n",
        "# D_in = 51  # 51 características después de one-hot encoding\n",
        "# H1 = 64\n",
        "# H2 = 32 \n",
        "# D_out = 4\n",
        "\n",
        "# model_with_dummies = nn.Sequential(\n",
        "#     nn.Linear(51, H1),\n",
        "#     nn.ReLU(),\n",
        "#     nn.Linear(H1, H2),\n",
        "#     nn.ReLU(),\n",
        "#     nn.Linear(H2, D_out)\n",
        "# )"
      ]
    },
    {
      "cell_type": "code",
      "execution_count": 145,
      "metadata": {
        "ExecuteTime": {
          "end_time": "2020-08-15T12:21:45.502329Z",
          "start_time": "2020-08-15T12:21:45.487329Z"
        },
        "colab": {
          "base_uri": "https://localhost:8080/"
        },
        "hidden": true,
        "id": "WVB30MPem6xO",
        "outputId": "b8402942-f76c-4f2c-ecdd-4cd4d17cd50b"
      },
      "outputs": [
        {
          "name": "stdout",
          "output_type": "stream",
          "text": [
            "torch.Size([600, 4])\n"
          ]
        }
      ],
      "source": [
        "outputs = model(torch.randn(600, 7))  # Cambiar de 16 a 51\n",
        "print(outputs.shape)\n"
      ]
    },
    {
      "cell_type": "code",
      "execution_count": 146,
      "metadata": {
        "colab": {
          "base_uri": "https://localhost:8080/"
        },
        "id": "x7mk9EVzLeBV",
        "outputId": "b1009b89-d67d-429e-b5f4-4c34ccf3a9fc"
      },
      "outputs": [
        {
          "name": "stdout",
          "output_type": "stream",
          "text": [
            "tensor([ 0.0299,  0.0289,  0.1070, -0.0482], grad_fn=<SliceBackward0>)\n"
          ]
        }
      ],
      "source": [
        "print(outputs[0][:])"
      ]
    },
    {
      "cell_type": "code",
      "execution_count": 147,
      "metadata": {
        "colab": {
          "base_uri": "https://localhost:8080/"
        },
        "id": "hSs12izZ97se",
        "outputId": "913b68d3-2d19-4e66-cb51-b8239b2c8196"
      },
      "outputs": [
        {
          "data": {
            "text/plain": [
              "Sequential(\n",
              "  (0): Linear(in_features=7, out_features=64, bias=True)\n",
              "  (1): ReLU()\n",
              "  (2): Linear(in_features=64, out_features=32, bias=True)\n",
              "  (3): ReLU()\n",
              "  (4): Linear(in_features=32, out_features=4, bias=True)\n",
              ")"
            ]
          },
          "execution_count": 147,
          "metadata": {},
          "output_type": "execute_result"
        }
      ],
      "source": [
        "model"
      ]
    },
    {
      "cell_type": "code",
      "execution_count": 148,
      "metadata": {
        "ExecuteTime": {
          "end_time": "2020-08-15T12:21:46.777020Z",
          "start_time": "2020-08-15T12:21:45.503329Z"
        },
        "colab": {
          "base_uri": "https://localhost:8080/"
        },
        "hidden": true,
        "id": "VjtJxIM_m6xQ",
        "outputId": "014d4148-bda7-46b4-f920-78d83748face"
      },
      "outputs": [],
      "source": [
        "# model.to(\"cuda\") NO LO USO YA QUE SOLO TENGO CPU"
      ]
    },
    {
      "cell_type": "code",
      "execution_count": 149,
      "metadata": {
        "ExecuteTime": {
          "end_time": "2020-08-15T12:22:05.622262Z",
          "start_time": "2020-08-15T12:21:46.778019Z"
        },
        "colab": {
          "base_uri": "https://localhost:8080/"
        },
        "hidden": true,
        "id": "OmlXe8Gpm6xR",
        "outputId": "6003a82d-397e-4b5d-dece-ec1cdacb95dc"
      },
      "outputs": [
        {
          "data": {
            "text/plain": [
              "((20001, 16), (20001,))"
            ]
          },
          "execution_count": 149,
          "metadata": {},
          "output_type": "execute_result"
        }
      ],
      "source": [
        "import pandas as pd\n",
        "\n",
        "csv_path = r\"M:\\UNIVERSIDAD 2025_2\\INTELIGENCIA ATRIFICIAL\\LAB5\\csv_result_multiclase.csv\"\n",
        "df = pd.read_csv(csv_path)\n",
        "\n",
        "# Separamos features y target\n",
        "X = df.drop(columns=['id','Y'])  # todas las columnas menos id y Y\n",
        "Y = df['Y']\n",
        "\n",
        "X.shape, Y.shape  # esto te dará algo como (20000, 16), (20000,)\n"
      ]
    },
    {
      "cell_type": "code",
      "execution_count": 150,
      "metadata": {
        "ExecuteTime": {
          "end_time": "2020-08-15T12:22:05.761911Z",
          "start_time": "2020-08-15T12:22:05.624102Z"
        },
        "hidden": true,
        "id": "BzhE25udm6xR"
      },
      "outputs": [
        {
          "name": "stdout",
          "output_type": "stream",
          "text": [
            "torch.Size([16000, 51]) torch.Size([16000]) torch.Size([4001, 51]) torch.Size([4001])\n"
          ]
        }
      ],
      "source": [
        "import pandas as pd\n",
        "import numpy as np\n",
        "import torch\n",
        "\n",
        "# Leer CSV\n",
        "path = r\"M:\\UNIVERSIDAD 2025_2\\INTELIGENCIA ATRIFICIAL\\LAB5\\csv_result_multiclase.csv\"\n",
        "df = pd.read_csv(path)\n",
        "\n",
        "# Separar target\n",
        "y = df['Y'].astype(np.int64)\n",
        "\n",
        "# Quitar columnas irrelevantes\n",
        "df = df.drop(columns=['id', 'Y'])\n",
        "\n",
        "# One-hot encoding de variables categóricas\n",
        "df_encoded = pd.get_dummies(df)\n",
        "\n",
        "# Convertir a numpy\n",
        "X = df_encoded.values.astype(np.float32)\n",
        "\n",
        "# Normalización Min-Max columna por columna\n",
        "X_min = X.min(axis=0)\n",
        "X_max = X.max(axis=0)\n",
        "X_norm = (X - X_min) / (X_max - X_min + 1e-8)  # 1e-8 para evitar división por cero\n",
        "\n",
        "# Dividir en train/test 80%-20%\n",
        "split_idx = int(0.8 * len(X_norm))\n",
        "X_train = X_norm[:split_idx]\n",
        "X_test  = X_norm[split_idx:]\n",
        "y_train = y.values[:split_idx]\n",
        "y_test  = y.values[split_idx:]\n",
        "\n",
        "# Convertir a tensores\n",
        "X_t = torch.from_numpy(X_train).float()\n",
        "Y_t = torch.from_numpy(y_train).long()\n",
        "X_test_t = torch.from_numpy(X_test).float()\n",
        "Y_test_t = torch.from_numpy(y_test).long()\n",
        "\n",
        "print(X_t.shape, Y_t.shape, X_test_t.shape, Y_test_t.shape)\n"
      ]
    },
    {
      "cell_type": "code",
      "execution_count": 151,
      "metadata": {},
      "outputs": [
        {
          "name": "stdout",
          "output_type": "stream",
          "text": [
            "Forma con datos numéricos solamente: torch.Size([16000, 7])\n",
            "Esto coincide con D_in = 16 del modelo\n"
          ]
        }
      ],
      "source": [
        "# VERSIÓN CORREGIDA: Usar solo datos numéricos (16 características)\n",
        "import pandas as pd\n",
        "import numpy as np\n",
        "import torch\n",
        "\n",
        "# Leer CSV\n",
        "path = r\"M:\\UNIVERSIDAD 2025_2\\INTELIGENCIA ATRIFICIAL\\LAB5\\csv_result_multiclase.csv\"\n",
        "df = pd.read_csv(path)\n",
        "\n",
        "# Separar target\n",
        "y = df['Y'].astype(np.int64)\n",
        "\n",
        "# Quitar columnas irrelevantes y mantener SOLO las numéricas\n",
        "df_numeric = df.drop(columns=['id', 'Y']).select_dtypes(include=['number'])\n",
        "\n",
        "# Convertir a numpy (SIN get_dummies para mantener 16 características)\n",
        "X_simple = df_numeric.values.astype(np.float32)\n",
        "\n",
        "# Normalización Min-Max\n",
        "X_min_simple = X_simple.min(axis=0)\n",
        "X_max_simple = X_simple.max(axis=0)\n",
        "X_norm_simple = (X_simple - X_min_simple) / (X_max_simple - X_min_simple + 1e-8)\n",
        "\n",
        "# Dividir en train/test 80%-20%\n",
        "split_idx = int(0.8 * len(X_norm_simple))\n",
        "X_train_simple = X_norm_simple[:split_idx]\n",
        "X_test_simple = X_norm_simple[split_idx:]\n",
        "y_train_simple = y.values[:split_idx]\n",
        "y_test_simple = y.values[split_idx:]\n",
        "\n",
        "# Convertir a tensores\n",
        "X_t_simple = torch.from_numpy(X_train_simple).float()\n",
        "Y_t_simple = torch.from_numpy(y_train_simple).long()\n",
        "\n",
        "print(f\"Forma con datos numéricos solamente: {X_t_simple.shape}\")\n",
        "print(f\"Esto coincide con D_in = 16 del modelo\")"
      ]
    },
    {
      "cell_type": "code",
      "execution_count": 152,
      "metadata": {},
      "outputs": [
        {
          "name": "stdout",
          "output_type": "stream",
          "text": [
            "Columnas numéricas:\n",
            "['Age', 'Balance', 'Day', 'Duration', 'Campaign', 'Pdays', 'Previous']\n",
            "Número de columnas numéricas: 7\n",
            "\n",
            "Todas las columnas después de quitar 'id' y 'Y':\n",
            "['Age', 'Job', 'Marital', 'Education', 'Default', 'Balance', 'Housing', 'Loan', 'Contact', 'Day', 'Month', 'Duration', 'Campaign', 'Pdays', 'Previous', 'Poutcome']\n",
            "Total de columnas: 16\n"
          ]
        }
      ],
      "source": [
        "# Verificar exactamente qué columnas son numéricas\n",
        "print(\"Columnas numéricas:\")\n",
        "print(df_numeric.columns.tolist())\n",
        "print(f\"Número de columnas numéricas: {len(df_numeric.columns)}\")\n",
        "print(\"\\nTodas las columnas después de quitar 'id' y 'Y':\")\n",
        "df_all = df.drop(columns=['id', 'Y'])\n",
        "print(df_all.columns.tolist())\n",
        "print(f\"Total de columnas: {len(df_all.columns)}\")"
      ]
    },
    {
      "cell_type": "code",
      "execution_count": 153,
      "metadata": {},
      "outputs": [
        {
          "name": "stdout",
          "output_type": "stream",
          "text": [
            "Forma con label encoding: (20001, 16)\n"
          ]
        }
      ],
      "source": [
        "# OPCIÓN 2: Convertir categóricas a números (16 características)\n",
        "from sklearn.preprocessing import LabelEncoder\n",
        "\n",
        "df_label_encoded = df.drop(columns=['id', 'Y']).copy()\n",
        "label_encoders = {}\n",
        "\n",
        "# Convertir columnas categóricas a números\n",
        "for col in df_label_encoded.select_dtypes(include=['object']).columns:\n",
        "    le = LabelEncoder()\n",
        "    df_label_encoded[col] = le.fit_transform(df_label_encoded[col])\n",
        "    label_encoders[col] = le\n",
        "\n",
        "X_label_encoded = df_label_encoded.values.astype(np.float32)\n",
        "print(f\"Forma con label encoding: {X_label_encoded.shape}\")  # Debería ser (20001, 16)"
      ]
    },
    {
      "cell_type": "code",
      "execution_count": 154,
      "metadata": {
        "ExecuteTime": {
          "end_time": "2020-08-15T12:22:05.777964Z",
          "start_time": "2020-08-15T12:22:05.763102Z"
        },
        "hidden": true,
        "id": "pDJK07Jpm6xR"
      },
      "outputs": [],
      "source": [
        "# función de pérdida y derivada\n",
        "\n",
        "def softmax(x):\n",
        "    return torch.exp(x) / torch.exp(x).sum(axis=-1,keepdims=True)\n",
        "\n",
        "def cross_entropy(output, target):\n",
        "    logits = output[torch.arange(len(output)), target]\n",
        "    loss = - logits + torch.log(torch.sum(torch.exp(output), axis=-1))\n",
        "    loss = loss.mean()\n",
        "    return loss"
      ]
    },
    {
      "cell_type": "code",
      "execution_count": 155,
      "metadata": {
        "id": "E0mXU4_t5c-n"
      },
      "outputs": [
        {
          "data": {
            "text/plain": [
              "array([[0.33766234, 0.06532148, 0.13333334, ..., 0.        , 0.        ,\n",
              "        1.        ],\n",
              "       [0.19480519, 0.06506498, 0.13333334, ..., 0.        , 0.        ,\n",
              "        1.        ],\n",
              "       [0.19480519, 0.06505548, 0.13333334, ..., 0.        , 0.        ,\n",
              "        1.        ],\n",
              "       ...,\n",
              "       [0.44155845, 0.06629047, 0.33333334, ..., 0.        , 0.        ,\n",
              "        1.        ],\n",
              "       [0.24675325, 0.06504598, 0.33333334, ..., 0.        , 0.        ,\n",
              "        0.        ],\n",
              "       [0.18181819, 0.07543889, 0.33333334, ..., 0.        , 0.        ,\n",
              "        1.        ]], dtype=float32)"
            ]
          },
          "execution_count": 155,
          "metadata": {},
          "output_type": "execute_result"
        }
      ],
      "source": [
        "X_train"
      ]
    },
    {
      "cell_type": "code",
      "execution_count": 156,
      "metadata": {
        "colab": {
          "base_uri": "https://localhost:8080/"
        },
        "id": "qHL3LiGejvr0",
        "outputId": "061234b6-1ec6-4372-a2f1-402632db4913"
      },
      "outputs": [
        {
          "data": {
            "text/plain": [
              "False"
            ]
          },
          "execution_count": 156,
          "metadata": {},
          "output_type": "execute_result"
        }
      ],
      "source": [
        "torch.cuda.is_available()"
      ]
    },
    {
      "cell_type": "code",
      "execution_count": 157,
      "metadata": {
        "colab": {
          "base_uri": "https://localhost:8080/"
        },
        "id": "tZCJjxDZyenK",
        "outputId": "c972fca5-4bc9-456c-fd21-18918f22a596"
      },
      "outputs": [
        {
          "name": "stdout",
          "output_type": "stream",
          "text": [
            "[[4.400e+01 2.900e+01 5.000e+00 ... 0.000e+00 0.000e+00 1.000e+00]\n",
            " [3.300e+01 2.000e+00 5.000e+00 ... 0.000e+00 0.000e+00 1.000e+00]\n",
            " [3.300e+01 1.000e+00 5.000e+00 ... 0.000e+00 0.000e+00 1.000e+00]\n",
            " ...\n",
            " [5.100e+01 8.250e+02 1.700e+01 ... 0.000e+00 0.000e+00 1.000e+00]\n",
            " [7.100e+01 1.729e+03 1.700e+01 ... 0.000e+00 0.000e+00 1.000e+00]\n",
            " [5.700e+01 6.680e+02 1.700e+01 ... 0.000e+00 0.000e+00 1.000e+00]]\n"
          ]
        }
      ],
      "source": [
        "print(X)"
      ]
    },
    {
      "cell_type": "code",
      "execution_count": 158,
      "metadata": {
        "ExecuteTime": {
          "end_time": "2020-08-15T12:22:07.268014Z",
          "start_time": "2020-08-15T12:22:05.778966Z"
        },
        "colab": {
          "base_uri": "https://localhost:8080/"
        },
        "hidden": true,
        "id": "EjdhOJ90m6xS",
        "outputId": "0c9c4a00-89df-4b55-b3ff-6e72ef543cfb"
      },
      "outputs": [
        {
          "name": "stdout",
          "output_type": "stream",
          "text": [
            "Entrenando con: torch.Size([16000, 7])\n",
            "Epoch 10/350 Loss 1.25026\n",
            "Epoch 10/350 Loss 1.25026\n",
            "Epoch 20/350 Loss 1.22434\n",
            "Epoch 30/350 Loss 1.21259\n",
            "Epoch 20/350 Loss 1.22434\n",
            "Epoch 30/350 Loss 1.21259\n",
            "Epoch 40/350 Loss 1.20189\n",
            "Epoch 40/350 Loss 1.20189\n",
            "Epoch 50/350 Loss 1.18684\n",
            "Epoch 60/350 Loss 1.18868\n",
            "Epoch 50/350 Loss 1.18684\n",
            "Epoch 60/350 Loss 1.18868\n",
            "Epoch 70/350 Loss 1.18123\n",
            "Epoch 70/350 Loss 1.18123\n",
            "Epoch 80/350 Loss 1.17295\n",
            "Epoch 90/350 Loss 1.16325\n",
            "Epoch 80/350 Loss 1.17295\n",
            "Epoch 90/350 Loss 1.16325\n",
            "Epoch 100/350 Loss 1.15445\n",
            "Epoch 100/350 Loss 1.15445\n",
            "Epoch 110/350 Loss 1.14595\n",
            "Epoch 120/350 Loss 1.13541\n",
            "Epoch 110/350 Loss 1.14595\n",
            "Epoch 120/350 Loss 1.13541\n",
            "Epoch 130/350 Loss 1.12540\n",
            "Epoch 130/350 Loss 1.12540\n",
            "Epoch 140/350 Loss 1.11578\n",
            "Epoch 150/350 Loss 1.10841\n",
            "Epoch 140/350 Loss 1.11578\n",
            "Epoch 150/350 Loss 1.10841\n",
            "Epoch 160/350 Loss 1.10028\n",
            "Epoch 160/350 Loss 1.10028\n",
            "Epoch 170/350 Loss 1.09499\n",
            "Epoch 170/350 Loss 1.09499\n",
            "Epoch 180/350 Loss 1.08812Epoch 180/350 Loss 1.08812\n",
            "Epoch 190/350 Loss 1.07941\n",
            "Epoch 200/350 Loss 1.07196\n",
            "\n",
            "Epoch 190/350 Loss 1.07941\n",
            "Epoch 200/350 Loss 1.07196\n",
            "Epoch 210/350 Loss 1.06466\n",
            "Epoch 220/350 Loss 1.05733\n",
            "Epoch 230/350 Loss 1.05118\n",
            "Epoch 210/350 Loss 1.06466\n",
            "Epoch 220/350 Loss 1.05733\n",
            "Epoch 230/350 Loss 1.05118\n",
            "Epoch 240/350 Loss 1.04436\n",
            "Epoch 250/350 Loss 1.04080\n",
            "Epoch 260/350 Loss 1.03456\n",
            "Epoch 240/350 Loss 1.04436\n",
            "Epoch 250/350 Loss 1.04080\n",
            "Epoch 260/350 Loss 1.03456\n",
            "Epoch 270/350 Loss 1.02907\n",
            "Epoch 280/350 Loss 1.02303\n",
            "Epoch 290/350 Loss 1.01813\n",
            "Epoch 270/350 Loss 1.02907\n",
            "Epoch 280/350 Loss 1.02303\n",
            "Epoch 290/350 Loss 1.01813\n",
            "Epoch 300/350 Loss 1.01231\n",
            "Epoch 310/350 Loss 1.00927\n",
            "Epoch 320/350 Loss 1.00412\n",
            "Epoch 300/350 Loss 1.01231\n",
            "Epoch 310/350 Loss 1.00927\n",
            "Epoch 320/350 Loss 1.00412\n",
            "Epoch 330/350 Loss 1.00104\n",
            "Epoch 340/350 Loss 0.99680\n",
            "Epoch 350/350 Loss 0.99245\n",
            "Epoch 330/350 Loss 1.00104\n",
            "Epoch 340/350 Loss 0.99680\n",
            "Epoch 350/350 Loss 0.99245\n"
          ]
        }
      ],
      "source": [
        "import torch\n",
        "import numpy as np\n",
        "\n",
        "# Usar los datos numéricos simples (7 características)\n",
        "X_t = X_t_simple  # Usar los datos de 7 características\n",
        "Y_t = Y_t_simple  # Usar las etiquetas correspondientes\n",
        "\n",
        "print(f\"Entrenando con: {X_t.shape}\")\n",
        "\n",
        "# Bucle de entrenamiento\n",
        "epochs = 350\n",
        "lr = 0.8\n",
        "log_each = 10\n",
        "l = []\n",
        "for e in range(1, epochs + 1):\n",
        "    y_pred = model(X_t)                # forward\n",
        "    loss = cross_entropy(y_pred, Y_t)  # cálculo de loss\n",
        "    l.append(loss.item())\n",
        "    \n",
        "    model.zero_grad()                   # gradientes a cero\n",
        "    loss.backward()                     # backprop\n",
        "\n",
        "    with torch.no_grad():               # actualizar pesos manualmente\n",
        "        for param in model.parameters():\n",
        "            param -= lr * param.grad\n",
        "\n",
        "    if not e % log_each:\n",
        "        print(f\"Epoch {e}/{epochs} Loss {np.mean(l):.5f}\")"
      ]
    },
    {
      "cell_type": "code",
      "execution_count": 159,
      "metadata": {},
      "outputs": [
        {
          "data": {
            "image/png": "[encoded data removed]",
            "text/plain": [
              "<Figure size 1000x600 with 1 Axes>"
            ]
          },
          "metadata": {},
          "output_type": "display_data"
        },
        {
          "name": "stdout",
          "output_type": "stream",
          "text": [
            "\n",
            "=== ESTADÍSTICAS DEL ENTRENAMIENTO ===\n",
            "Loss inicial: 1.42075\n",
            "Loss final: 0.84087\n",
            "Reducción del loss: 40.82%\n",
            "Loss promedio: 0.99245\n",
            "Loss mínimo: 0.73246 (Epoch 322)\n"
          ]
        }
      ],
      "source": [
        "# Graficar la curva de aprendizaje\n",
        "import matplotlib.pyplot as plt\n",
        "\n",
        "plt.figure(figsize=(10, 6))\n",
        "plt.plot(range(1, epochs + 1), l, 'b-', linewidth=2, label='Loss de entrenamiento')\n",
        "plt.title('Curva de Aprendizaje - Pérdida durante el Entrenamiento', fontsize=14, fontweight='bold')\n",
        "plt.xlabel('Epochs', fontsize=12)\n",
        "plt.ylabel('Loss (Cross-Entropy)', fontsize=12)\n",
        "plt.grid(True, alpha=0.3)\n",
        "plt.legend()\n",
        "plt.tight_layout()\n",
        "plt.show()\n",
        "\n",
        "# Mostrar estadísticas del entrenamiento\n",
        "print(f\"\\n=== ESTADÍSTICAS DEL ENTRENAMIENTO ===\")\n",
        "print(f\"Loss inicial: {l[0]:.5f}\")\n",
        "print(f\"Loss final: {l[-1]:.5f}\")\n",
        "print(f\"Reducción del loss: {((l[0] - l[-1]) / l[0] * 100):.2f}%\")\n",
        "print(f\"Loss promedio: {np.mean(l):.5f}\")\n",
        "print(f\"Loss mínimo: {min(l):.5f} (Epoch {l.index(min(l)) + 1})\")"
      ]
    },
    {
      "cell_type": "code",
      "execution_count": 160,
      "metadata": {
        "ExecuteTime": {
          "end_time": "2020-08-15T12:22:07.312014Z",
          "start_time": "2020-08-15T12:22:07.270016Z"
        },
        "colab": {
          "base_uri": "https://localhost:8080/"
        },
        "hidden": true,
        "id": "Ufomq0IIm6xT",
        "outputId": "67fd3b3f-5390-4373-d8a8-be36a946d611"
      },
      "outputs": [],
      "source": [
        "from sklearn.metrics import accuracy_score\n",
        "\n",
        "def evaluate(x):\n",
        "    model.eval()\n",
        "    y_pred = model(x)\n",
        "    y_probas = softmax(y_pred)\n",
        "    return torch.argmax(y_probas, axis=1)\n",
        "\n",
        "# Usar los datos de test correspondientes a los datos numéricos simples (7 características)\n",
        "X_test_simple_tensor = torch.from_numpy(X_test_simple).float()\n",
        "y_pred = evaluate(X_test_simple_tensor)"
      ]
    },
    {
      "cell_type": "code",
      "execution_count": 161,
      "metadata": {
        "ExecuteTime": {
          "end_time": "2020-08-15T12:22:07.328014Z",
          "start_time": "2020-08-15T12:22:07.313014Z"
        },
        "hidden": true,
        "id": "8ZmyhLd5m6xU"
      },
      "outputs": [],
      "source": [
        "criterion = torch.nn.CrossEntropyLoss()"
      ]
    },
    {
      "cell_type": "code",
      "execution_count": 162,
      "metadata": {
        "ExecuteTime": {
          "end_time": "2020-08-15T12:22:07.343013Z",
          "start_time": "2020-08-15T12:22:07.330016Z"
        },
        "hidden": true,
        "id": "X8-BU1mbm6xU"
      },
      "outputs": [],
      "source": [
        "optimizer = torch.optim.SGD(model.parameters(), lr=0.8)"
      ]
    },
    {
      "cell_type": "code",
      "execution_count": 163,
      "metadata": {
        "ExecuteTime": {
          "end_time": "2020-08-15T12:22:08.626592Z",
          "start_time": "2020-08-15T12:22:07.344013Z"
        },
        "code_folding": [
          0
        ],
        "colab": {
          "base_uri": "https://localhost:8080/"
        },
        "hidden": true,
        "id": "oz7CgSjum6xV",
        "outputId": "2cb45952-38ac-4d85-fa48-0cb15eb14d36"
      },
      "outputs": [
        {
          "name": "stdout",
          "output_type": "stream",
          "text": [
            "Índices de características: [1, 2, 3, 4, 5, 6, 7]\n",
            "Índice de Y: 8\n",
            "Índice de id: 0\n",
            "Forma de X normalizado: torch.Size([20001, 7])\n",
            "Forma de Y: torch.Size([20001])\n",
            "\n",
            "=== CONFIGURACIÓN DEL MODELO ===\n",
            "Entrada: 7 características\n",
            "Capa oculta: 32 neuronas\n",
            "Salida: 4 clases\n",
            "\n",
            "=== ENTRENAMIENTO ===\n",
            "Epoch 20/400 Loss 1.34279 Accuracy 0.3664\n",
            "Epoch 20/400 Loss 1.34279 Accuracy 0.3664\n",
            "Epoch 40/400 Loss 1.28742 Accuracy 0.4174\n",
            "Epoch 40/400 Loss 1.28742 Accuracy 0.4174\n",
            "Epoch 60/400 Loss 1.23754 Accuracy 0.5523\n",
            "Epoch 60/400 Loss 1.23754 Accuracy 0.5523\n",
            "Epoch 80/400 Loss 1.19246 Accuracy 0.6311\n",
            "Epoch 80/400 Loss 1.19246 Accuracy 0.6311\n",
            "Epoch 100/400 Loss 1.15160 Accuracy 0.6333\n",
            "Epoch 120/400 Loss 1.11451 Accuracy 0.6336\n",
            "Epoch 100/400 Loss 1.15160 Accuracy 0.6333\n",
            "Epoch 120/400 Loss 1.11451 Accuracy 0.6336\n",
            "Epoch 140/400 Loss 1.08081 Accuracy 0.6336\n",
            "Epoch 160/400 Loss 1.05018 Accuracy 0.6336\n",
            "Epoch 140/400 Loss 1.08081 Accuracy 0.6336\n",
            "Epoch 160/400 Loss 1.05018 Accuracy 0.6336\n",
            "Epoch 180/400 Loss 1.02233 Accuracy 0.6336\n",
            "Epoch 200/400 Loss 0.99702 Accuracy 0.6336\n",
            "Epoch 180/400 Loss 1.02233 Accuracy 0.6336\n",
            "Epoch 200/400 Loss 0.99702 Accuracy 0.6336\n",
            "Epoch 220/400 Loss 0.97400 Accuracy 0.6336\n",
            "Epoch 240/400 Loss 0.95308 Accuracy 0.6336\n",
            "Epoch 260/400 Loss 0.93403 Accuracy 0.6336\n",
            "Epoch 220/400 Loss 0.97400 Accuracy 0.6336\n",
            "Epoch 240/400 Loss 0.95308 Accuracy 0.6336\n",
            "Epoch 260/400 Loss 0.93403 Accuracy 0.6336\n",
            "Epoch 280/400 Loss 0.91670 Accuracy 0.6336\n",
            "Epoch 300/400 Loss 0.90089 Accuracy 0.6336\n",
            "Epoch 280/400 Loss 0.91670 Accuracy 0.6336\n",
            "Epoch 300/400 Loss 0.90089 Accuracy 0.6336\n",
            "Epoch 320/400 Loss 0.88647 Accuracy 0.6336\n",
            "Epoch 340/400 Loss 0.87327 Accuracy 0.6336\n",
            "Epoch 320/400 Loss 0.88647 Accuracy 0.6336\n",
            "Epoch 340/400 Loss 0.87327 Accuracy 0.6336\n",
            "Epoch 360/400 Loss 0.86119 Accuracy 0.6336\n",
            "Epoch 380/400 Loss 0.85010 Accuracy 0.6336\n",
            "Epoch 360/400 Loss 0.86119 Accuracy 0.6336\n",
            "Epoch 380/400 Loss 0.85010 Accuracy 0.6336\n",
            "Epoch 400/400 Loss 0.83989 Accuracy 0.6336\n",
            "Accuracy: 0.7088 (70.88%)\n",
            "Datos de entrenamiento: torch.Size([16000, 7])\n",
            "Datos de test: torch.Size([4001, 7])\n",
            "Epoch 400/400 Loss 0.83989 Accuracy 0.6336\n",
            "Accuracy: 0.7088 (70.88%)\n",
            "Datos de entrenamiento: torch.Size([16000, 7])\n",
            "Datos de test: torch.Size([4001, 7])\n"
          ]
        }
      ],
      "source": [
        "\n",
        "df_original = pd.read_csv(r\"M:\\UNIVERSIDAD 2025_2\\INTELIGENCIA ATRIFICIAL\\LAB5\\csv_result_multiclase.csv\")\n",
        "\n",
        "numeric_cols = df_original.select_dtypes(include=['number']).columns.tolist()\n",
        "\n",
        "# Obtener índices de características (sin 'id' ni 'Y')\n",
        "feature_indices = []\n",
        "y_index = None\n",
        "id_index = None\n",
        "\n",
        "for i, col in enumerate(numeric_cols):\n",
        "    if col.lower() == 'y':\n",
        "        y_index = i\n",
        "    elif col.lower() == 'id':\n",
        "        id_index = i\n",
        "    else:\n",
        "        feature_indices.append(i)\n",
        "\n",
        "print(f\"Índices de características: {feature_indices}\")\n",
        "print(f\"Índice de Y: {y_index}\")\n",
        "print(f\"Índice de id: {id_index}\")\n",
        "\n",
        "# Extraer características y target de los datos normalizados\n",
        "X_normalized = normalized_data[:, feature_indices]  # Solo características\n",
        "Y_normalized = normalized_data[:, y_index].long()   # Target\n",
        "\n",
        "print(f\"Forma de X normalizado: {X_normalized.shape}\")\n",
        "print(f\"Forma de Y: {Y_normalized.shape}\")\n",
        "\n",
        "# Dividir en train/test 80%-20%\n",
        "split_idx = int(0.8 * len(X_normalized))\n",
        "X_train_norm = X_normalized[:split_idx]\n",
        "X_test_norm = X_normalized[split_idx:]\n",
        "Y_train_norm = Y_normalized[:split_idx]\n",
        "Y_test_norm = Y_normalized[split_idx:]\n",
        "\n",
        "# Configuración del modelo MEJORADA\n",
        "D_in = X_normalized.shape[1]  # Número real de características\n",
        "H = 32  # Reducir neuronas ocultas (más apropiado para el tamaño del dataset)\n",
        "D_out = 4  # 4 clases\n",
        "\n",
        "print(f\"\\n=== CONFIGURACIÓN DEL MODELO ===\")\n",
        "print(f\"Entrada: {D_in} características\")\n",
        "print(f\"Capa oculta: {H} neuronas\")\n",
        "print(f\"Salida: {D_out} clases\")\n",
        "\n",
        "# Crear modelo con arquitectura más apropiada\n",
        "model_final = torch.nn.Sequential(\n",
        "    torch.nn.Linear(D_in, H),\n",
        "    torch.nn.ReLU(),\n",
        "    torch.nn.Linear(H, D_out),\n",
        ")\n",
        "\n",
        "criterion = torch.nn.CrossEntropyLoss()\n",
        "optimizer = torch.optim.SGD(model_final.parameters(), lr=0.005)  # Punto medio óptimo\n",
        "\n",
        "# Entrenamiento\n",
        "epochs = 400  # Reducir epochs ya que converge más rápido\n",
        "log_each = 20\n",
        "l_final = []\n",
        "accuracy_train = []\n",
        "model_final.train()\n",
        "\n",
        "print(f\"\\n=== ENTRENAMIENTO ===\")\n",
        "for e in range(1, epochs+1):\n",
        "    # forward\n",
        "    y_pred = model_final(X_train_norm)\n",
        "    loss = criterion(y_pred, Y_train_norm)\n",
        "    l_final.append(loss.item())\n",
        "\n",
        "    # Calcular accuracy durante entrenamiento\n",
        "    with torch.no_grad():\n",
        "        y_pred_classes = torch.argmax(y_pred, axis=1)\n",
        "        acc = accuracy_score(Y_train_norm.numpy(), y_pred_classes.numpy())\n",
        "        accuracy_train.append(acc)\n",
        "\n",
        "    # backward\n",
        "    optimizer.zero_grad()\n",
        "    loss.backward()\n",
        "    optimizer.step()\n",
        "\n",
        "    if not e % log_each:\n",
        "        print(f\"Epoch {e}/{epochs} Loss {loss.item():.5f} Accuracy {acc:.4f}\")\n",
        "\n",
        "# Evaluación\n",
        "model_final.eval()\n",
        "with torch.no_grad():\n",
        "    y_pred_final = model_final(X_test_norm)\n",
        "    y_pred_classes_final = torch.argmax(y_pred_final, axis=1)\n",
        "    \n",
        "accuracy_final = accuracy_score(Y_test_norm.numpy(), y_pred_classes_final.numpy())\n",
        "\n",
        "print(f\"Accuracy: {accuracy_final:.4f} ({accuracy_final*100:.2f}%)\")\n",
        "print(f\"Datos de entrenamiento: {X_train_norm.shape}\")\n",
        "print(f\"Datos de test: {X_test_norm.shape}\")"
      ]
    },
    {
      "cell_type": "code",
      "execution_count": 164,
      "metadata": {},
      "outputs": [
        {
          "data": {
            "image/png": "[encoded data removed]",
            "text/plain": [
              "<Figure size 1000x600 with 1 Axes>"
            ]
          },
          "metadata": {},
          "output_type": "display_data"
        }
      ],
      "source": [
        "# Curva de aprendizaje\n",
        "import matplotlib.pyplot as plt\n",
        "\n",
        "plt.figure(figsize=(10, 6))\n",
        "\n",
        "# Normalizar loss para que esté en escala similar al accuracy\n",
        "loss_normalized = [(1 - (loss / max(l_final))) * 100 for loss in l_final]\n",
        "plt.plot(range(1, epochs + 1), [acc * 100 for acc in accuracy_train], 'g-', linewidth=2, label='Accuracy (%)')\n",
        "plt.plot(range(1, epochs + 1), loss_normalized, 'r-', linewidth=2, label='Loss (normalizado)')\n",
        "plt.title('Loss y Accuracy durante el Entrenamiento', fontsize=14, fontweight='bold')\n",
        "plt.xlabel('Epochs', fontsize=12)\n",
        "plt.ylabel('Porcentaje (%)', fontsize=12)\n",
        "plt.legend()\n",
        "plt.grid(True, alpha=0.3)\n",
        "plt.tight_layout()\n",
        "plt.show()"
      ]
    },
    {
      "cell_type": "code",
      "execution_count": 165,
      "metadata": {
        "ExecuteTime": {
          "end_time": "2020-08-15T12:22:08.642713Z",
          "start_time": "2020-08-15T12:22:08.628592Z"
        },
        "hidden": true,
        "id": "zP6-77c5m6xW"
      },
      "outputs": [],
      "source": [
        "# creamos una clase que hereda de `torch.nn.Module`\n",
        "\n",
        "class ModeloPersonalizado(torch.nn.Module):\n",
        "\n",
        "    # constructor\n",
        "    def __init__(self, D_in, H, D_out):\n",
        "\n",
        "        # llamamos al constructor de la clase madre\n",
        "        super(ModeloPersonalizado, self).__init__()\n",
        "\n",
        "        # definimos nuestras capas\n",
        "        self.fc1 = torch.nn.Linear(D_in, H)\n",
        "        self.relu = torch.nn.ReLU()\n",
        "        self.fc2 = torch.nn.Linear(H, D_out)\n",
        "\n",
        "    # lógica para calcular las salidas de la red\n",
        "    def forward(self, x):\n",
        "        x = self.fc1(x)\n",
        "        x = self.relu(x)\n",
        "        x = self.fc2(x)\n",
        "        return x"
      ]
    },
    {
      "cell_type": "code",
      "execution_count": 166,
      "metadata": {
        "ExecuteTime": {
          "end_time": "2020-08-15T12:22:08.658711Z",
          "start_time": "2020-08-15T12:22:08.644712Z"
        },
        "colab": {
          "base_uri": "https://localhost:8080/"
        },
        "hidden": true,
        "id": "zhaXSvoVm6xW",
        "outputId": "4c42bd3a-f3ed-4356-9e00-21d41ff9d124"
      },
      "outputs": [
        {
          "name": "stdout",
          "output_type": "stream",
          "text": [
            "Forma de entrada: torch.Size([500, 7])\n",
            "Forma de salida: torch.Size([500, 4])\n",
            "Esto es correcto: (500 muestras, 4 clases)\n"
          ]
        }
      ],
      "source": [
        "model = ModeloPersonalizado(7, 32, 4)\n",
        "# Codigo para saber si el modelo esta funcionando con las dimensiones correctas\n",
        "x_prueba = torch.randn(500, 7)  # 7 características como el modelo\n",
        "print(\"Forma de entrada:\", x_prueba.shape)\n",
        "outputs = model(x_prueba)\n",
        "print(\"Forma de salida:\", outputs.shape)\n",
        "print(\"Esto es correcto: (500 muestras, 4 clases)\")"
      ]
    },
    {
      "cell_type": "code",
      "execution_count": 167,
      "metadata": {
        "ExecuteTime": {
          "end_time": "2020-08-15T12:22:09.941710Z",
          "start_time": "2020-08-15T12:22:08.659711Z"
        },
        "colab": {
          "base_uri": "https://localhost:8080/"
        },
        "hidden": true,
        "id": "idh4YMn6m6xX",
        "outputId": "ac70d071-0d03-46a9-c421-6178a79d416a"
      },
      "outputs": [
        {
          "name": "stdout",
          "output_type": "stream",
          "text": [
            "Entrenando con: torch.Size([16000, 7])\n",
            "Epoch 10/100 Loss 1.35254\n",
            "Epoch 20/100 Loss 1.34553\n",
            "Epoch 30/100 Loss 1.33900\n",
            "Epoch 40/100 Loss 1.33291\n",
            "Epoch 50/100 Loss 1.32722\n",
            "Epoch 60/100 Loss 1.32191\n",
            "Epoch 70/100 Loss 1.31693\n",
            "Epoch 40/100 Loss 1.33291\n",
            "Epoch 50/100 Loss 1.32722\n",
            "Epoch 60/100 Loss 1.32191\n",
            "Epoch 70/100 Loss 1.31693\n",
            "Epoch 80/100 Loss 1.31228\n",
            "Epoch 90/100 Loss 1.30791\n",
            "Epoch 100/100 Loss 1.30381\n",
            "\n",
            "Accuracy en test: 0.4009 (40.09%)\n",
            "Epoch 80/100 Loss 1.31228\n",
            "Epoch 90/100 Loss 1.30791\n",
            "Epoch 100/100 Loss 1.30381\n",
            "\n",
            "Accuracy en test: 0.4009 (40.09%)\n"
          ]
        }
      ],
      "source": [
        "# Entrenamiento del modelo personalizado\n",
        "model.train()\n",
        "criterion = torch.nn.CrossEntropyLoss()\n",
        "optimizer = torch.optim.SGD(model.parameters(), lr=0.01)  # LR más conservador\n",
        "\n",
        "# Usar los datos correctos (7 características)\n",
        "X_t = X_t_simple  # Datos de entrenamiento (7 características)\n",
        "Y_t = Y_t_simple  # Labels de entrenamiento\n",
        "\n",
        "epochs = 100\n",
        "log_each = 10\n",
        "l = []\n",
        "\n",
        "print(f\"Entrenando con: {X_t.shape}\")\n",
        "for e in range(1, epochs+1):\n",
        "    # forward\n",
        "    y_pred = model(X_t)\n",
        "    \n",
        "    # loss\n",
        "    loss = criterion(y_pred, Y_t)\n",
        "    l.append(loss.item())\n",
        "    \n",
        "    # ponemos a cero los gradientes\n",
        "    optimizer.zero_grad()\n",
        "    \n",
        "    # Backprop (calculamos todos los gradientes automáticamente)\n",
        "    loss.backward()\n",
        "    \n",
        "    # update de los pesos\n",
        "    optimizer.step()\n",
        "    \n",
        "    if not e % log_each:\n",
        "        print(f\"Epoch {e}/{epochs} Loss {np.mean(l):.5f}\")\n",
        "\n",
        "# Evaluación en datos de test\n",
        "model.eval()\n",
        "with torch.no_grad():\n",
        "    X_test_tensor = torch.from_numpy(X_test_simple).float()\n",
        "    y_pred_test = model(X_test_tensor)\n",
        "    y_pred_classes = torch.argmax(y_pred_test, axis=1)\n",
        "    \n",
        "    test_accuracy = accuracy_score(y_test_simple, y_pred_classes.numpy())\n",
        "    print(f\"\\nAccuracy en test: {test_accuracy:.4f} ({test_accuracy*100:.2f}%)\")"
      ]
    },
    {
      "cell_type": "code",
      "execution_count": 168,
      "metadata": {
        "ExecuteTime": {
          "end_time": "2020-08-15T12:22:09.956710Z",
          "start_time": "2020-08-15T12:22:09.942710Z"
        },
        "hidden": true,
        "id": "l-6qAZn1m6xX"
      },
      "outputs": [],
      "source": [
        "class ModelCustom2(torch.nn.Module):\n",
        "\n",
        "    def __init__(self, D_in, H, D_out):\n",
        "        super(ModelCustom2, self).__init__()\n",
        "        self.fc1 = torch.nn.Linear(D_in, H)\n",
        "        self.relu = torch.nn.ReLU()\n",
        "        self.fc2 = torch.nn.Linear(H, D_out)\n",
        "\n",
        "    def forward(self, x):\n",
        "        x1 = self.fc1(x)\n",
        "        x = self.relu(x1)\n",
        "        x = self.fc2(x + x1)\n",
        "        return x"
      ]
    },
    {
      "cell_type": "code",
      "execution_count": 169,
      "metadata": {
        "ExecuteTime": {
          "end_time": "2020-08-15T12:22:11.314772Z",
          "start_time": "2020-08-15T12:22:09.958712Z"
        },
        "colab": {
          "base_uri": "https://localhost:8080/"
        },
        "hidden": true,
        "id": "EaSLokO7m6xX",
        "outputId": "da239c5c-d5e0-435e-dfdb-6f67fea53ebc"
      },
      "outputs": [
        {
          "name": "stdout",
          "output_type": "stream",
          "text": [
            "Entrenando ModelCustom2 con: torch.Size([16000, 7])\n",
            "Epoch 10/100 Loss 1.43466\n",
            "Epoch 20/100 Loss 1.41400\n",
            "Epoch 30/100 Loss 1.39633\n",
            "Epoch 20/100 Loss 1.41400\n",
            "Epoch 30/100 Loss 1.39633\n",
            "Epoch 40/100 Loss 1.38101\n",
            "Epoch 50/100 Loss 1.36760\n",
            "Epoch 40/100 Loss 1.38101\n",
            "Epoch 50/100 Loss 1.36760\n",
            "Epoch 60/100 Loss 1.35577\n",
            "Epoch 70/100 Loss 1.34526\n",
            "Epoch 60/100 Loss 1.35577\n",
            "Epoch 70/100 Loss 1.34526\n",
            "Epoch 80/100 Loss 1.33586\n",
            "Epoch 90/100 Loss 1.32742\n",
            "Epoch 100/100 Loss 1.31980\n",
            "\n",
            "Accuracy ModelCustom2: 0.2484 (24.84%)\n",
            "Epoch 80/100 Loss 1.33586\n",
            "Epoch 90/100 Loss 1.32742\n",
            "Epoch 100/100 Loss 1.31980\n",
            "\n",
            "Accuracy ModelCustom2: 0.2484 (24.84%)\n"
          ]
        }
      ],
      "source": [
        "# Crear modelo personalizado ModelCustom2 con dimensiones correctas\n",
        "model_custom2 = ModelCustom2(7, 32, 4)  # 7 características, 32 ocultas, 4 clases\n",
        "criterion = torch.nn.CrossEntropyLoss()\n",
        "optimizer = torch.optim.SGD(model_custom2.parameters(), lr=0.01)  # LR conservador\n",
        "\n",
        "# Usar datos correctos (7 características)\n",
        "X_t = X_t_simple  # Datos de entrenamiento (7 características)\n",
        "Y_t = Y_t_simple  # Labels de entrenamiento\n",
        "\n",
        "epochs = 100\n",
        "log_each = 10\n",
        "l = []\n",
        "model_custom2.train()\n",
        "\n",
        "print(f\"Entrenando ModelCustom2 con: {X_t.shape}\")\n",
        "for e in range(1, epochs+1):\n",
        "    # forward\n",
        "    y_pred = model_custom2(X_t)\n",
        "\n",
        "    # loss\n",
        "    loss = criterion(y_pred, Y_t)\n",
        "    l.append(loss.item())\n",
        "\n",
        "    # ponemos a cero los gradientes\n",
        "    optimizer.zero_grad()\n",
        "\n",
        "    # Backprop (calculamos todos los gradientes automáticamente)\n",
        "    loss.backward()\n",
        "\n",
        "    # update de los pesos\n",
        "    optimizer.step()\n",
        "\n",
        "    if not e % log_each:\n",
        "        print(f\"Epoch {e}/{epochs} Loss {np.mean(l):.5f}\")\n",
        "\n",
        "# Evaluación en datos de test\n",
        "model_custom2.eval()\n",
        "with torch.no_grad():\n",
        "    X_test_tensor = torch.from_numpy(X_test_simple).float()\n",
        "    y_pred_test = model_custom2(X_test_tensor)\n",
        "    y_pred_classes = torch.argmax(y_pred_test, axis=1)\n",
        "    \n",
        "    test_accuracy = accuracy_score(y_test_simple, y_pred_classes.numpy())\n",
        "    print(f\"\\nAccuracy ModelCustom2: {test_accuracy:.4f} ({test_accuracy*100:.2f}%)\")"
      ]
    },
    {
      "cell_type": "markdown",
      "metadata": {
        "hidden": true,
        "id": "sgoJC4nIm6xY"
      },
      "source": [
        "De esta manera, tenemos mucha flexibilidad para definir nuestras redes."
      ]
    },
    {
      "cell_type": "markdown",
      "metadata": {
        "heading_collapsed": true,
        "id": "s1ZrxJsJm6xY"
      },
      "source": [
        "## Accediendo a las capas de una red"
      ]
    },
    {
      "cell_type": "code",
      "execution_count": 170,
      "metadata": {
        "ExecuteTime": {
          "end_time": "2020-08-15T12:22:11.329809Z",
          "start_time": "2020-08-15T12:22:11.316772Z"
        },
        "colab": {
          "base_uri": "https://localhost:8080/"
        },
        "hidden": true,
        "id": "K5VAtILVm6xY",
        "outputId": "1efa23eb-53ec-4e52-8236-44937c063e35"
      },
      "outputs": [
        {
          "data": {
            "text/plain": [
              "ModeloPersonalizado(\n",
              "  (fc1): Linear(in_features=7, out_features=32, bias=True)\n",
              "  (relu): ReLU()\n",
              "  (fc2): Linear(in_features=32, out_features=4, bias=True)\n",
              ")"
            ]
          },
          "execution_count": 170,
          "metadata": {},
          "output_type": "execute_result"
        }
      ],
      "source": [
        "model"
      ]
    },
    {
      "cell_type": "code",
      "execution_count": 171,
      "metadata": {
        "ExecuteTime": {
          "end_time": "2020-08-15T12:22:11.345809Z",
          "start_time": "2020-08-15T12:22:11.332809Z"
        },
        "colab": {
          "base_uri": "https://localhost:8080/"
        },
        "hidden": true,
        "id": "_EfUdON5m6xY",
        "outputId": "b0bcd897-e153-4238-a21c-de0fc2f62f24"
      },
      "outputs": [
        {
          "data": {
            "text/plain": [
              "Linear(in_features=7, out_features=32, bias=True)"
            ]
          },
          "execution_count": 171,
          "metadata": {},
          "output_type": "execute_result"
        }
      ],
      "source": [
        "model.fc1"
      ]
    },
    {
      "cell_type": "markdown",
      "metadata": {
        "hidden": true,
        "id": "5vXjUwhmm6xZ"
      },
      "source": [
        "También podemos acceder directamente a los tensores que contienen los parámetros con las propiedades adecuadas"
      ]
    },
    {
      "cell_type": "code",
      "execution_count": 172,
      "metadata": {
        "ExecuteTime": {
          "end_time": "2020-08-15T12:22:11.360809Z",
          "start_time": "2020-08-15T12:22:11.346809Z"
        },
        "colab": {
          "base_uri": "https://localhost:8080/"
        },
        "hidden": true,
        "id": "C6Wy_6cXm6xZ",
        "outputId": "2df668ab-421d-42fa-afed-634d854c7278"
      },
      "outputs": [
        {
          "data": {
            "text/plain": [
              "Parameter containing:\n",
              "tensor([[-0.2681, -0.1779,  0.3179, -0.2917, -0.0198,  0.1228,  0.0009],\n",
              "        [-0.3026,  0.0386, -0.2001, -0.1887,  0.2160,  0.2011,  0.1000],\n",
              "        [-0.1759,  0.3675, -0.1349, -0.3035, -0.3585, -0.2498,  0.0834],\n",
              "        [-0.0785,  0.2491, -0.1683,  0.3521, -0.1592,  0.1622, -0.1771],\n",
              "        [ 0.0601,  0.1157, -0.3460, -0.2257,  0.3636,  0.0707, -0.2339],\n",
              "        [ 0.0920,  0.3134, -0.1638,  0.0007, -0.2935,  0.2181,  0.3458],\n",
              "        [-0.1072, -0.2434, -0.2717,  0.3149, -0.2472,  0.0295,  0.1997],\n",
              "        [-0.1566, -0.2263, -0.3590,  0.3123,  0.0359, -0.1538, -0.3723],\n",
              "        [ 0.2719, -0.0041,  0.1116, -0.1598,  0.3599, -0.0067, -0.0495],\n",
              "        [ 0.2313,  0.2767,  0.3381,  0.2138,  0.2708, -0.1692,  0.1719],\n",
              "        [ 0.2864,  0.2505, -0.1917, -0.2963, -0.3594, -0.1150, -0.2568],\n",
              "        [ 0.3725,  0.1208, -0.2850, -0.2506, -0.1148,  0.2065, -0.2503],\n",
              "        [-0.1349,  0.0662, -0.2191,  0.1844, -0.0223, -0.0254,  0.3665],\n",
              "        [-0.2045,  0.1066,  0.1235, -0.2280, -0.2461, -0.1508,  0.3057],\n",
              "        [ 0.0305, -0.2227,  0.2828, -0.2328,  0.3018, -0.2873, -0.0222],\n",
              "        [ 0.2425, -0.1130,  0.2387,  0.1131, -0.0588,  0.1236, -0.3755],\n",
              "        [ 0.1362,  0.0558,  0.3332,  0.2064,  0.1603,  0.0154,  0.0756],\n",
              "        [ 0.3657, -0.0890, -0.3094,  0.2097, -0.2036,  0.1482, -0.0242],\n",
              "        [-0.2066, -0.0313, -0.2819, -0.0224,  0.2481, -0.2059, -0.1589],\n",
              "        [-0.3225,  0.1565,  0.0979, -0.2602,  0.0828, -0.1601,  0.1398],\n",
              "        [ 0.2390, -0.2294,  0.3535, -0.2985, -0.0202,  0.1098, -0.2133],\n",
              "        [-0.3186, -0.2976,  0.0455, -0.2715, -0.0412,  0.1493,  0.2642],\n",
              "        [-0.1541,  0.1032, -0.1708, -0.2145,  0.2768,  0.3317,  0.2058],\n",
              "        [-0.2970, -0.2965,  0.2719,  0.2462,  0.2200,  0.2274, -0.0091],\n",
              "        [ 0.3621,  0.2239,  0.1774,  0.3572, -0.0552, -0.3181, -0.1579],\n",
              "        [-0.3469,  0.1177, -0.1041,  0.3598,  0.3488, -0.3338, -0.3687],\n",
              "        [-0.1571, -0.1977,  0.0623, -0.3417, -0.1129, -0.0891,  0.2312],\n",
              "        [-0.2302,  0.2496,  0.1041,  0.2686,  0.0831, -0.2941, -0.2980],\n",
              "        [ 0.0400, -0.3684,  0.2218, -0.0164,  0.2394, -0.1858,  0.0643],\n",
              "        [-0.3580,  0.1650,  0.3717,  0.3318,  0.2497, -0.0855, -0.2940],\n",
              "        [-0.2701, -0.1547,  0.3584, -0.3345,  0.1516, -0.2385, -0.2359],\n",
              "        [ 0.1419, -0.2093, -0.0232,  0.0160,  0.0557,  0.1264, -0.3114]],\n",
              "       requires_grad=True)"
            ]
          },
          "execution_count": 172,
          "metadata": {},
          "output_type": "execute_result"
        }
      ],
      "source": [
        "model.fc1.weight"
      ]
    },
    {
      "cell_type": "code",
      "execution_count": 173,
      "metadata": {
        "ExecuteTime": {
          "end_time": "2020-08-15T12:22:11.375809Z",
          "start_time": "2020-08-15T12:22:11.361809Z"
        },
        "colab": {
          "base_uri": "https://localhost:8080/"
        },
        "hidden": true,
        "id": "5TbpHDGKm6xZ",
        "outputId": "1359c585-a3fc-41a1-f84a-abfa5ecfd0f3"
      },
      "outputs": [
        {
          "data": {
            "text/plain": [
              "Parameter containing:\n",
              "tensor([ 0.1593, -0.1269,  0.2188,  0.1374,  0.0010, -0.2065,  0.2047,  0.1107,\n",
              "        -0.2950,  0.3692, -0.3096, -0.0973, -0.3057,  0.1627,  0.3211,  0.0973,\n",
              "        -0.0791,  0.2446,  0.3773,  0.2819,  0.2053, -0.3433, -0.2133,  0.1644,\n",
              "         0.0322, -0.0464, -0.1789,  0.2795,  0.0697,  0.2589,  0.0985, -0.3013],\n",
              "       requires_grad=True)"
            ]
          },
          "execution_count": 173,
          "metadata": {},
          "output_type": "execute_result"
        }
      ],
      "source": [
        "model.fc1.bias"
      ]
    },
    {
      "cell_type": "markdown",
      "metadata": {
        "hidden": true,
        "id": "oqraljgym6xZ"
      },
      "source": [
        "Es posible sobreescribir una capa de la siguiente manera"
      ]
    },
    {
      "cell_type": "code",
      "execution_count": 174,
      "metadata": {
        "ExecuteTime": {
          "end_time": "2020-08-15T12:22:11.391810Z",
          "start_time": "2020-08-15T12:22:11.376809Z"
        },
        "colab": {
          "base_uri": "https://localhost:8080/"
        },
        "hidden": true,
        "id": "xIwyV17em6xZ",
        "outputId": "e8d814fe-4ee2-4201-bb12-3272b75acbc3"
      },
      "outputs": [
        {
          "data": {
            "text/plain": [
              "ModeloPersonalizado(\n",
              "  (fc1): Linear(in_features=7, out_features=32, bias=True)\n",
              "  (relu): ReLU()\n",
              "  (fc2): Linear(in_features=100, out_features=1, bias=True)\n",
              ")"
            ]
          },
          "execution_count": 174,
          "metadata": {},
          "output_type": "execute_result"
        }
      ],
      "source": [
        "model.fc2 = torch.nn.Linear(100, 1)\n",
        "\n",
        "model"
      ]
    },
    {
      "cell_type": "code",
      "execution_count": 175,
      "metadata": {
        "ExecuteTime": {
          "end_time": "2020-08-15T12:22:11.406809Z",
          "start_time": "2020-08-15T12:22:11.393812Z"
        },
        "colab": {
          "base_uri": "https://localhost:8080/"
        },
        "hidden": true,
        "id": "JfE83wXtm6xZ",
        "outputId": "fe422420-4c24-4b47-a203-dcba15b7e180"
      },
      "outputs": [
        {
          "data": {
            "text/plain": [
              "[Linear(in_features=7, out_features=32, bias=True),\n",
              " ReLU(),\n",
              " Linear(in_features=100, out_features=1, bias=True)]"
            ]
          },
          "execution_count": 175,
          "metadata": {},
          "output_type": "execute_result"
        }
      ],
      "source": [
        "# obtener una lista con las capas de una red\n",
        "\n",
        "list(model.children())"
      ]
    },
    {
      "cell_type": "code",
      "execution_count": 176,
      "metadata": {
        "ExecuteTime": {
          "end_time": "2020-08-15T12:22:11.422810Z",
          "start_time": "2020-08-15T12:22:11.408810Z"
        },
        "colab": {
          "base_uri": "https://localhost:8080/"
        },
        "hidden": true,
        "id": "wkaUklFHm6xa",
        "outputId": "ed7a57bf-da14-4850-cd9a-144c29d1dd30"
      },
      "outputs": [
        {
          "data": {
            "text/plain": [
              "Sequential(\n",
              "  (0): Linear(in_features=7, out_features=32, bias=True)\n",
              ")"
            ]
          },
          "execution_count": 176,
          "metadata": {},
          "output_type": "execute_result"
        }
      ],
      "source": [
        "# crear nueva red a partir de la lista (excluyendo las útlimas dos capa)\n",
        "\n",
        "new_model = torch.nn.Sequential(*list(model.children())[:-2])\n",
        "new_model"
      ]
    },
    {
      "cell_type": "code",
      "execution_count": 177,
      "metadata": {
        "ExecuteTime": {
          "end_time": "2020-08-15T12:22:11.438809Z",
          "start_time": "2020-08-15T12:22:11.424811Z"
        },
        "colab": {
          "base_uri": "https://localhost:8080/"
        },
        "hidden": true,
        "id": "AcGFOSU5m6xa",
        "outputId": "df247c5c-0921-4958-9e85-62b1c8d6a8f4"
      },
      "outputs": [
        {
          "data": {
            "text/plain": [
              "ModuleList(\n",
              "  (0): Linear(in_features=7, out_features=32, bias=True)\n",
              "  (1): ReLU()\n",
              ")"
            ]
          },
          "execution_count": 177,
          "metadata": {},
          "output_type": "execute_result"
        }
      ],
      "source": [
        "# crear nueva red a partir de la lista (excluyendo las útlima capa)\n",
        "\n",
        "new_model = torch.nn.ModuleList(list(model.children())[:-1])\n",
        "new_model"
      ]
    },
    {
      "cell_type": "markdown",
      "metadata": {
        "id": "2IanjDRkm6xa"
      },
      "source": [
        "## Resumen"
      ]
    },
    {
      "cell_type": "markdown",
      "metadata": {
        "id": "PwR1F8c9m6xa"
      },
      "source": [
        "En este post hemos visto la funcionalidad que `Pytorch` nos ofrece a la hora de definir y entrenar nuestras `redes neuronales`. El paquete `torch.nn` contiene todo lo necesario para diseñar nuestros modelos, ya sea de manera secuencial o con una clase *custom* para arquitecturas más complicadas. También nos da muchas funciones de pérdida que podemos usar directamente para entrenar las redes. Te recomiendo encarecidamente que le eches un vistazo a la [documentación](https://pytorch.org/docs/stable/nn.html) par hacerte una idea de todo lo que puedes hacer. También hemos visto como el paquete `torch.optim` nos oferece algoritmos de optimización que también nos hacen la vida más fácil a la hora de entrenar nuestras redes."
      ]
    }
  ],
  "metadata": {
    "accelerator": "GPU",
    "colab": {
      "gpuType": "T4",
      "provenance": []
    },
    "kernelspec": {
      "display_name": "Python 3",
      "name": "python3"
    },
    "language_info": {
      "codemirror_mode": {
        "name": "ipython",
        "version": 3
      },
      "file_extension": ".py",
      "mimetype": "text/x-python",
      "name": "python",
      "nbconvert_exporter": "python",
      "pygments_lexer": "ipython3",
      "version": "3.11.9"
    },
    "toc": {
      "base_numbering": 1,
      "nav_menu": {},
      "number_sections": true,
      "sideBar": true,
      "skip_h1_title": false,
      "title_cell": "Table of Contents",
      "title_sidebar": "Contents",
      "toc_cell": false,
      "toc_position": {
        "height": "calc(100% - 180px)",
        "left": "10px",
        "top": "150px",
        "width": "233.594px"
      },
      "toc_section_display": true,
      "toc_window_display": false
    }
  },
  "nbformat": 4,
  "nbformat_minor": 0
}
